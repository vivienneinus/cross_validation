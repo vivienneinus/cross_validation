{
 "cells": [
  {
   "cell_type": "raw",
   "id": "ae5b2b54-ccf4-45ec-8212-53b57bc32cd6",
   "metadata": {},
   "source": [
    "# Simple K-Fold Cross Validation\n",
    "import pandas as pd\n",
    "from sklearn import model_selection\n",
    "\n",
    "if __name__ == '__main__':\n",
    "    # Import training data\n",
    "    df = pd.read_csv('train.csv')\n",
    "    # Create a new col, kfold, with -1's\n",
    "    df['kfold'] = -1\n",
    "    # Sample data rows randomly\n",
    "    df = df.sample(frac = 1).reset_index(drop = True)\n",
    "    # Fetch targets\n",
    "    y = df.target.values\n",
    "    # Initiate the kfold class with 5\n",
    "    kf = model_selection.KFold(n_splits = 5)\n",
    "    # Update the kfold col for the validation data\n",
    "    for fold, (trn_, val_) in enumerate(kf.split(X = df, y = y)):\n",
    "        df.loc[val_, 'kfold'] = fold\n",
    "    # Save the updated kfold to csv\n",
    "    df.to_csv('train_folds.csv', index = False)"
   ]
  },
  {
   "cell_type": "code",
   "execution_count": 1,
   "id": "10828fe6-d7cd-4a69-93df-8edc950c80d2",
   "metadata": {},
   "outputs": [],
   "source": [
    "import numpy as np\n",
    "import pandas as pd\n",
    "\n",
    "from sklearn import datasets\n",
    "from sklearn import model_selection"
   ]
  },
  {
   "cell_type": "code",
   "execution_count": 5,
   "id": "e95c916d-4aff-4c71-a383-cc0f121c9b89",
   "metadata": {},
   "outputs": [],
   "source": [
    "def create_folds(data):\n",
    "    # Create a new col, kfold, with -1's\n",
    "    data['kfold'] = -1\n",
    "    # Sample rows randomly\n",
    "    data = data.sample(frac = 1).reset_index(drop = True)\n",
    "    # Calculate #. bins by Sturge's rule\n",
    "    num_bins = int(np.floor(1 + np.log2(len(data))))\n",
    "    # bin targets\n",
    "    data.loc[:, 'bins'] = pd.cut(data.target, bins = num_bins, labels = False)\n",
    "    # Initialize kfold classes with 5\n",
    "    kf = model_selection.StratifiedKFold(n_splits = 5)\n",
    "    # Update the kfold in the validation set\n",
    "    for f, (t_, v_) in enumerate(kf.split(X = data, y = data.bins.values)):\n",
    "        data.loc[:, 'kfold'] = f\n",
    "    \n",
    "    data = data.drop('bins', axis = 1)\n",
    "    return data"
   ]
  },
  {
   "cell_type": "code",
   "execution_count": 6,
   "id": "f00d13e6-9d19-460d-8cf1-0da2c246a161",
   "metadata": {},
   "outputs": [
    {
     "name": "stderr",
     "output_type": "stream",
     "text": [
      "/opt/anaconda3/lib/python3.11/site-packages/sklearn/model_selection/_split.py:700: UserWarning: The least populated class in y has only 3 members, which is less than n_splits=5.\n",
      "  warnings.warn(\n"
     ]
    }
   ],
   "source": [
    "if __name__ == '__main__':\n",
    "    # Generate sample data of 15000 samples with 1000 features and 1 target\n",
    "    X, y = datasets.make_regression(n_samples = 15000, n_features = 100, n_targets = 1)\n",
    "    df = pd.DataFrame(X, columns = [f'f_{i}' for i in range(X.shape[1])])\n",
    "    df.loc[:, 'target'] = y\n",
    "    df = create_folds(df)"
   ]
  }
 ],
 "metadata": {
  "kernelspec": {
   "display_name": "Python 3 (ipykernel)",
   "language": "python",
   "name": "python3"
  },
  "language_info": {
   "codemirror_mode": {
    "name": "ipython",
    "version": 3
   },
   "file_extension": ".py",
   "mimetype": "text/x-python",
   "name": "python",
   "nbconvert_exporter": "python",
   "pygments_lexer": "ipython3",
   "version": "3.11.7"
  }
 },
 "nbformat": 4,
 "nbformat_minor": 5
}
